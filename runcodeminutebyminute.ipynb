{
 "cells": [
  {
   "cell_type": "code",
   "execution_count": 1,
   "source": [
    "import requests\r\n",
    "import pandas as pd\r\n",
    "from datetime import datetime\r\n",
    "import time\r\n",
    "\r\n",
    "# for in range():\r\n",
    "\r\n",
    "while True:\r\n",
    "    requisicao = requests.get(\"https://economia.awesomeapi.com.br/last/USD-BRL,EUR-BRL,BTC-BRL\")\r\n",
    "    requisicao_dic = requisicao.json()\r\n",
    "\r\n",
    "    cotacao_dolar = requisicao_dic[\"USDBRL\"][\"bid\"]\r\n",
    "    cotacao_euro = requisicao_dic[\"EURBRL\"][\"bid\"]\r\n",
    "    cotacao_btc = requisicao_dic[\"BTCBRL\"][\"bid\"]\r\n",
    "\r\n",
    "    tabela = pd.read_excel(\"Quotes.xlsx\")\r\n",
    "    tabela.loc[0, \"Cotação\"] = float(cotacao_dolar)\r\n",
    "    tabela.loc[1, \"Cotação\"] = float(cotacao_euro)\r\n",
    "    tabela.loc[2, \"Cotação\"] = float(cotacao_btc) * 1000\r\n",
    "    tabela.loc[0, \"Data Última Atualização\"] = datetime.now()\r\n",
    "\r\n",
    "    tabela.to_excel(\"Quotes.xlsx\", index=False)\r\n",
    "    print(f\"Cotação Atualizada. {datetime.now()}\")\r\n",
    "\r\n",
    "    time.sleep(60)"
   ],
   "outputs": [
    {
     "output_type": "stream",
     "name": "stdout",
     "text": [
      "Cotação Atualizada. 2021-08-02 03:31:09.292677\n",
      "Cotação Atualizada. 2021-08-02 03:32:10.534800\n",
      "Cotação Atualizada. 2021-08-02 03:33:11.766301\n"
     ]
    },
    {
     "output_type": "error",
     "ename": "KeyboardInterrupt",
     "evalue": "",
     "traceback": [
      "\u001b[1;31m---------------------------------------------------------------------------\u001b[0m",
      "\u001b[1;31mKeyboardInterrupt\u001b[0m                         Traceback (most recent call last)",
      "\u001b[1;32m<ipython-input-1-e1e4e5cf466f>\u001b[0m in \u001b[0;36m<module>\u001b[1;34m\u001b[0m\n\u001b[0;32m     22\u001b[0m     \u001b[0mprint\u001b[0m\u001b[1;33m(\u001b[0m\u001b[1;34mf\"Cotação Atualizada. {datetime.now()}\"\u001b[0m\u001b[1;33m)\u001b[0m\u001b[1;33m\u001b[0m\u001b[1;33m\u001b[0m\u001b[0m\n\u001b[0;32m     23\u001b[0m \u001b[1;33m\u001b[0m\u001b[0m\n\u001b[1;32m---> 24\u001b[1;33m     \u001b[0mtime\u001b[0m\u001b[1;33m.\u001b[0m\u001b[0msleep\u001b[0m\u001b[1;33m(\u001b[0m\u001b[1;36m60\u001b[0m\u001b[1;33m)\u001b[0m\u001b[1;33m\u001b[0m\u001b[1;33m\u001b[0m\u001b[0m\n\u001b[0m",
      "\u001b[1;31mKeyboardInterrupt\u001b[0m: "
     ]
    }
   ],
   "metadata": {}
  }
 ],
 "metadata": {
  "orig_nbformat": 4,
  "language_info": {
   "name": "python",
   "version": "3.8.8",
   "mimetype": "text/x-python",
   "codemirror_mode": {
    "name": "ipython",
    "version": 3
   },
   "pygments_lexer": "ipython3",
   "nbconvert_exporter": "python",
   "file_extension": ".py"
  },
  "kernelspec": {
   "name": "python3",
   "display_name": "Python 3.8.8 64-bit ('base': conda)"
  },
  "interpreter": {
   "hash": "c8b693faffb3133eed55059df137e7d0c16fcccca94233f10e3d82fde3881ce8"
  }
 },
 "nbformat": 4,
 "nbformat_minor": 2
}